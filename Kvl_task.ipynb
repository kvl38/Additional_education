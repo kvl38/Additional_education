{
  "nbformat": 4,
  "nbformat_minor": 0,
  "metadata": {
    "colab": {
      "provenance": [],
      "collapsed_sections": [],
      "authorship_tag": "ABX9TyMcayVLEt5qQU8xPxEjrkp5",
      "include_colab_link": true
    },
    "kernelspec": {
      "name": "python3",
      "display_name": "Python 3"
    },
    "language_info": {
      "name": "python"
    }
  },
  "cells": [
    {
      "cell_type": "markdown",
      "metadata": {
        "id": "view-in-github",
        "colab_type": "text"
      },
      "source": [
        "<a href=\"https://colab.research.google.com/github/kvl38/Additional_education/blob/master/Kvl_task.ipynb\" target=\"_parent\"><img src=\"https://colab.research.google.com/assets/colab-badge.svg\" alt=\"Open In Colab\"/></a>"
      ]
    },
    {
      "cell_type": "markdown",
      "source": [
        "# Домашнее задание для Junior DS по разработке PD модели"
      ],
      "metadata": {
        "id": "qeTC027cc1N3"
      }
    },
    {
      "cell_type": "markdown",
      "source": [
        "<b>Задание:</b> Необходиом разработать модель предсказания дефолта. Даны финансовые данные 32 395 компаний (выручка, активы, пассивы и т.д). Результат будет оцениваться на скрытой выборке из 200 компаний по метрике качества accuracy_score\n",
        "\n",
        "<b>Цель задания</b> научиться / показать знания в разработке моделей оценки риска - probability of default. Задание приближено к реальному, данные синтетические. Лидерборд для оценки собственного решения и геймификации процесса обучения. Первое место в лидерборде не явлется целью. Цель - правильно разарботанная модель, удовлетворяющая требованиям банковской системы. В случае возникновения вопросов, сотрудники блока Риски готовы проконсультировать и дать обратную связь на модель (телеграм чат).\n",
        "\n",
        "<b>Метрика качества</b> accuracy_score вычисляется, как ( True positive + True negative ) / Total. Если сабмит-файл, не правильного формата или неверное количество строк, метрика будет = 0."
      ],
      "metadata": {
        "id": "-jOJ6g7Fc4Z5"
      }
    },
    {
      "cell_type": "markdown",
      "source": [
        "### Импортируем библиотеки"
      ],
      "metadata": {
        "id": "B7wPGMFAc-mW"
      }
    },
    {
      "cell_type": "code",
      "execution_count": 158,
      "metadata": {
        "id": "sOiYgTiE0odk"
      },
      "outputs": [],
      "source": [
        "import pandas as pd\n",
        "import numpy as np\n",
        "from sklearn.metrics import f1_score\n",
        "from matplotlib import pyplot as plt\n",
        "import seaborn as sns\n",
        "from sklearn.preprocessing import StandardScaler\n",
        "from sklearn.model_selection import cross_val_score\n",
        "from sklearn.model_selection import train_test_split, KFold, GridSearchCV\n",
        "from sklearn.linear_model import LogisticRegression\n",
        "from sklearn.metrics import accuracy_score, roc_auc_score\n",
        "from sklearn.ensemble import GradientBoostingClassifier\n",
        "from sklearn.ensemble import RandomForestClassifier\n",
        "from xgboost import XGBRegressor"
      ]
    },
    {
      "cell_type": "markdown",
      "source": [
        "### Подгружаем данные"
      ],
      "metadata": {
        "id": "-n6I8gWNdBXN"
      }
    },
    {
      "cell_type": "code",
      "source": [
        "!wget https://raw.githubusercontent.com/BKHV/risk_models/master/data/PD-data-train.csv\n",
        "!wget https://raw.githubusercontent.com/BKHV/risk_models/master/data/PD-data-test.csv\n",
        "!wget https://raw.githubusercontent.com/BKHV/risk_models/master/data/PD-data-desc.csv"
      ],
      "metadata": {
        "id": "kZi-2Tfb0qUq"
      },
      "execution_count": null,
      "outputs": []
    },
    {
      "cell_type": "code",
      "source": [
        "train_df = pd.read_csv('PD-data-train.csv', sep=';')\n",
        "test_df = pd.read_csv('PD-data-test.csv', sep=';')\n",
        "desc_df = pd.read_csv('PD-data-desc.csv', sep=';')"
      ],
      "metadata": {
        "id": "34w8mEH90swp"
      },
      "execution_count": 275,
      "outputs": []
    },
    {
      "cell_type": "markdown",
      "source": [
        "Изучаем описание данных"
      ],
      "metadata": {
        "id": "jnU5iJukdGXv"
      }
    },
    {
      "cell_type": "code",
      "source": [
        "desc_df[:]"
      ],
      "metadata": {
        "id": "RXjwAy8n2Szx"
      },
      "execution_count": null,
      "outputs": []
    },
    {
      "cell_type": "code",
      "source": [
        "train_df[:]"
      ],
      "metadata": {
        "id": "pzAVhtqxbBCL"
      },
      "execution_count": null,
      "outputs": []
    },
    {
      "cell_type": "markdown",
      "source": [
        "Здесь я искал зависимые друг от друга параметры.\n",
        "\n",
        "(5) Прибыль от реализации = (0) Выручка от реализации - (1) Общие расходы за последний год\n",
        "\n",
        "(5) ar_sale_profit = (0) ar_revenue - (1) ar_total_expenses\n",
        "\n",
        "-------------------------------------------------------------------------------------\n",
        "(1) Общие расходы за последний год = (2)Себестоимость продаж + (3) Коммерческие расходы + (4) Управленческие расходы\n",
        "\n",
        "(1) ar_total_expenses = (2) ar_sale_cost + (3) ar_selling_expenses + (4) ar_management_expenses\n",
        "\n",
        "-------------------------------------------------------------------------------------\n",
        "(6) Баланс доходов и расходов = (7) Валовая прибыль - (5) Прибыль от реализации\n",
        "\n",
        "(6) ar_balance_of_rvns_and_expns = (7) ar_profit_before_tax - (5) ar_sale_profit\n",
        "\n",
        "-------------------------------------------------------------------------------------\n",
        "(10) Чистая прибыль = (7) Валовая прибыль - (8) Текущий налог на прибыль + (9) Прочие доходы и расходы\n",
        "\n",
        "(10) ar_net_profit = (7) ar_profit_before_tax - (8) ar_taxes + (9) ar_other_profit_and_losses\n",
        "\n",
        "-------------------------------------------------------------------------------------\n",
        "Независимые данные:\n",
        "\n",
        "(11) Основные внеоборотные средства за последний год\n",
        "(11) ab_immobilized_assets\n",
        "\n",
        "(16) Денежные средства и денежные эквиваленты\n",
        "(16) ab_cash_and_securities\n",
        "\n",
        "(18) Капитал\n",
        "(18) ab_own_capital\n",
        "\n",
        "-------------------------------------------------------------------------------------\n",
        "(24) Срок ведения бизнеса\n",
        "(24) bus_age\n",
        "\n",
        "(25) Срок с момента присваивания ОГРН\n",
        "(25) ogrn_age\n",
        "\n",
        "(24)bus_age = (24)ogrn_age\n",
        "\n",
        "---------------------\n",
        "(12) Оборотные активы = (13) Запасы  + (14) Дебиторская задолженность + (15) Прочие оборотные активы\n",
        "\n",
        "(12) ab_mobile_current_assets = (13) ab_inventory + (14) ab_accounts_receivable + (15) ab_other_current_assets\n",
        "\n",
        "-------------------------------------------------------------------------------------\n",
        "(17) Нераспределенная прибыль = (10) Чистая прибыль\n",
        "\n",
        "(17) ab_losses = (10) ar_net_profit \n",
        "\n",
        "-------------------------------------------------------------------------------------\n",
        "(19) Общие долговые обязательства = (20) Долгосрочный обязательства + (21) Краткосрочные заемные средства + (22) Кредиторская задодженность за последний год + (23) Прочие обязательства\n",
        "\n",
        "(19) ab_borrowed_capital = (20) ab_long_term_liabilities + (21) ab_short_term_borrowing + (22) ab_accounts_payable + (23) ab_other_borrowings\n",
        "\n",
        "-------------------------------------------------------------------------------------\n",
        "\n",
        "(26) adr_actual_age = (27)head_actual_age = (28)cap_actual_age\n",
        "\n",
        "(26) Срок с момента регистрации юридического адреса\n",
        "(26) adr_actual_age\n",
        "\n",
        "\n",
        "(27) Срок с момента назначения руководителя\n",
        "(27) head_actual_age\n",
        "\n",
        "\n",
        "(28) Срок с момента установки капитала\n",
        "(28) cap_actual_age\n",
        "\n",
        "-------------------------------------------------------------------------------------\n",
        "(29) Количество сотрудников\n",
        "(29) ul_staff_range\n",
        "\n",
        "-------------------------------------------------------------------------------------\n",
        "(30) Величина капитала\n",
        "(30) ul_capital_sum\n",
        "\n",
        "-------------------------------------------------------------------------------------\n",
        "(31) Количество акционеров\n",
        "(31) ul_founders_cnt\n",
        "\n",
        "-------------------------------------------------------------------------------------\n",
        "(32) Количество филиалов\n",
        "(32) ul_branch_cnt\n",
        "\n",
        "-------------------------------------------------------------------------------------\n",
        "(33) Компания стратегического значения\n",
        "(33) ul_strategic_flg\n",
        "\n",
        "\n",
        "-------------------------------------------------------------------------------------\n",
        "(34) Системообразующая компания\n",
        "(34) ul_systematizing_flg\n",
        "\n",
        "train_df['ul_systematizing_flg'].value_counts()  => \n",
        "\n",
        "0    32395\n",
        "\n",
        "Ответ: убираем\n",
        "\n",
        "-------------------------------------------------------------------------------------\n",
        "train_df.loc[(train_df['default_12m'] == 1)]\n",
        "\n",
        "Всего: 2091 компания"
      ],
      "metadata": {
        "id": "ARLMkXJDd14I"
      }
    },
    {
      "cell_type": "markdown",
      "source": [
        "На основе полученных данных я выбрал наиболее важные параметры"
      ],
      "metadata": {
        "id": "mxoc-Dj_h4AP"
      }
    },
    {
      "cell_type": "code",
      "source": [
        "features = ['ar_sale_profit', 'ar_net_profit', 'ab_immobilized_assets', 'ab_mobile_current_assets', 'ab_cash_and_securities',\n",
        "            'ab_own_capital', 'ab_borrowed_capital', 'bus_age', 'adr_actual_age', 'ul_capital_sum', 'ul_staff_range']\n"
      ],
      "metadata": {
        "id": "lb831vqz02Xe"
      },
      "execution_count": 276,
      "outputs": []
    },
    {
      "cell_type": "markdown",
      "source": [
        "Бэйзлайн модель"
      ],
      "metadata": {
        "id": "4gwuqti70dWz"
      }
    },
    {
      "cell_type": "code",
      "source": [
        "features_df = train_df.loc[:,features]\n",
        "features_df['default_12m'] = train_df['default_12m']\n",
        "features_df.head()"
      ],
      "metadata": {
        "id": "Dbbvw91k1O_T"
      },
      "execution_count": null,
      "outputs": []
    },
    {
      "cell_type": "markdown",
      "source": [
        "Строим карту корреляции"
      ],
      "metadata": {
        "id": "q2B2YHWpiSUC"
      }
    },
    {
      "cell_type": "code",
      "source": [
        "features_df.corr()"
      ],
      "metadata": {
        "id": "YhseC1m91X3e"
      },
      "execution_count": null,
      "outputs": []
    },
    {
      "cell_type": "markdown",
      "source": [
        "На основе карты корреляции я решил убрать некоторые параметры"
      ],
      "metadata": {
        "id": "ku53zM-5iV92"
      }
    },
    {
      "cell_type": "code",
      "source": [
        "features_df.drop(['bus_age', 'adr_actual_age', 'ab_cash_and_securities'], axis=1, inplace=True)"
      ],
      "metadata": {
        "id": "4LNkboJV1nUC"
      },
      "execution_count": 279,
      "outputs": []
    },
    {
      "cell_type": "markdown",
      "source": [
        "Разбиваем параметр 'ul_staff_range' по трём столбцам:\n",
        "\n",
        "ul_staff_range_(100-500] |\tul_staff_range_> 500 |\tul_staff_range_[1-100]"
      ],
      "metadata": {
        "id": "c8m3qUUgiqoN"
      }
    },
    {
      "cell_type": "code",
      "source": [
        "features_df = pd.get_dummies(features_df)"
      ],
      "metadata": {
        "id": "F1EFdPVT82Sy"
      },
      "execution_count": 280,
      "outputs": []
    },
    {
      "cell_type": "markdown",
      "source": [
        "Убираем строки, в которых большая часть значений пропущена. (В строках находятся значения NaN)"
      ],
      "metadata": {
        "id": "TJ_ojUhUjzrf"
      }
    },
    {
      "cell_type": "code",
      "source": [
        "my_df = features_df.dropna(thresh=6)"
      ],
      "metadata": {
        "id": "CBM1UpWC9PJI"
      },
      "execution_count": 281,
      "outputs": []
    },
    {
      "cell_type": "code",
      "source": [
        "my_df.head()"
      ],
      "metadata": {
        "id": "6DEzNalPMyHr"
      },
      "execution_count": null,
      "outputs": []
    },
    {
      "cell_type": "markdown",
      "source": [
        "Разбиваем тренировочную выборку на обучающую и тестовую: (80/20)"
      ],
      "metadata": {
        "id": "IisMvndOkvjl"
      }
    },
    {
      "cell_type": "code",
      "source": [
        "X_train, X_test, y_train, y_test = train_test_split(my_df.drop('default_12m',axis=1), my_df['default_12m'], random_state=42, test_size=0.2)"
      ],
      "metadata": {
        "id": "GACufM136D2A"
      },
      "execution_count": 282,
      "outputs": []
    },
    {
      "cell_type": "markdown",
      "source": [
        "При выборе лучшей модели были проверены: \n",
        "\n",
        "1) Логистическая регрессия\n",
        "\n",
        "2) Градиентный бустинг\n",
        "\n",
        "3) Случайный лес\n",
        "\n",
        "Лучшее качество на обучающей выборке показал градиентный бустинг\n",
        "\n",
        "Для подбора оптимальныъ параметров использовал GridSearchCV"
      ],
      "metadata": {
        "id": "bZZ8qFUQmhb0"
      }
    },
    {
      "cell_type": "markdown",
      "source": [
        "Стандартизируем данные и находим точность модели на обучающей выборке"
      ],
      "metadata": {
        "id": "hw44EvB1qzGo"
      }
    },
    {
      "cell_type": "code",
      "source": [
        "X_train = StandardScaler().fit_transform(X_train)\n",
        "\n",
        "number_of_trees = 35 # оптимальное значение!\n",
        "max_depth = 5 # оптимальное значение!\n",
        "model = GradientBoostingClassifier(n_estimators=number_of_trees, max_depth=max_depth)\n",
        "model_scores = cross_val_score(model, X_train, y_train, cv=5, scoring='roc_auc').mean()\n",
        "print(\"ROC-AUC модели = {:.2f}%\".format(model_scores * 100))"
      ],
      "metadata": {
        "colab": {
          "base_uri": "https://localhost:8080/"
        },
        "id": "1eY-N-nL-ifh",
        "outputId": "e87ab905-fcd9-47fc-c39e-13246ff037a1"
      },
      "execution_count": 283,
      "outputs": [
        {
          "output_type": "stream",
          "name": "stdout",
          "text": [
            "ROC-AUC модели = 70.06%\n"
          ]
        }
      ]
    },
    {
      "cell_type": "markdown",
      "source": [
        "Построение модели на всех данных"
      ],
      "metadata": {
        "id": "IrosgeqgEsi_"
      }
    },
    {
      "cell_type": "code",
      "source": [
        "model.fit(my_df.drop('default_12m',axis=1), my_df['default_12m'])"
      ],
      "metadata": {
        "colab": {
          "base_uri": "https://localhost:8080/"
        },
        "id": "TPKyH023-6oU",
        "outputId": "3cd78313-573c-4fec-c9cc-030bbbafadab"
      },
      "execution_count": 284,
      "outputs": [
        {
          "output_type": "execute_result",
          "data": {
            "text/plain": [
              "GradientBoostingClassifier(max_depth=5, n_estimators=35)"
            ]
          },
          "metadata": {},
          "execution_count": 284
        }
      ]
    },
    {
      "cell_type": "markdown",
      "source": [
        "### Формирование файла с ответом"
      ],
      "metadata": {
        "id": "HQktq30FpKed"
      }
    },
    {
      "cell_type": "code",
      "source": [
        "answ_df = test_df[['record_id']]\n",
        "answ_df['id'] = answ_df['record_id']\n",
        "answ_df.drop('record_id',axis=1, inplace=True)\n",
        "answ_df[:]"
      ],
      "metadata": {
        "id": "Px_-__8iE3n4"
      },
      "execution_count": null,
      "outputs": []
    },
    {
      "cell_type": "markdown",
      "source": [],
      "metadata": {
        "id": "ckQg5AnYrXKg"
      }
    },
    {
      "cell_type": "code",
      "source": [
        "cutoff = y_train.mean()\n",
        "cutoff"
      ],
      "metadata": {
        "id": "Uf5zaEmoE64N",
        "colab": {
          "base_uri": "https://localhost:8080/"
        },
        "outputId": "be454ec1-f122-45d0-8f2b-62133bc5a637"
      },
      "execution_count": 269,
      "outputs": [
        {
          "output_type": "execute_result",
          "data": {
            "text/plain": [
              "0.04601449275362319"
            ]
          },
          "metadata": {},
          "execution_count": 269
        }
      ]
    },
    {
      "cell_type": "markdown",
      "source": [
        "Преобразуем тестовую выборку под полученную модель"
      ],
      "metadata": {
        "id": "oJpvRJAupSH-"
      }
    },
    {
      "cell_type": "code",
      "source": [
        "test_df = test_df.loc[:,features]\n",
        "test_df.drop(['bus_age', 'adr_actual_age', 'ab_cash_and_securities'], axis=1, inplace=True)\n",
        "test_df = pd.get_dummies(test_df)\n",
        "test_df[:]"
      ],
      "metadata": {
        "id": "ZoSf7erCMtUB"
      },
      "execution_count": null,
      "outputs": []
    },
    {
      "cell_type": "markdown",
      "source": [
        "Заполняем все пропущенные значения в тестовой выборке нулями"
      ],
      "metadata": {
        "id": "FP7117WnpbDb"
      }
    },
    {
      "cell_type": "code",
      "source": [
        "test_df = test_df.replace(np.nan, 0)"
      ],
      "metadata": {
        "id": "gSCS0oM1Ndd7"
      },
      "execution_count": 271,
      "outputs": []
    },
    {
      "cell_type": "markdown",
      "source": [
        "В файл с ответом помещаем предсказанный нашей моделью результат"
      ],
      "metadata": {
        "id": "f_QMQMcepuHn"
      }
    },
    {
      "cell_type": "code",
      "source": [
        "answ_df['predict'] = (model.predict_proba(test_df)[:,1]>cutoff).astype(int)"
      ],
      "metadata": {
        "id": "3_XO7n3BGwII"
      },
      "execution_count": 272,
      "outputs": []
    },
    {
      "cell_type": "markdown",
      "source": [
        "Сохраняем файл с ответом"
      ],
      "metadata": {
        "id": "Yu-QKrOhpnhb"
      }
    },
    {
      "cell_type": "code",
      "source": [
        "answ_df.to_csv('kovalevPA.csv',index=False, sep=';')"
      ],
      "metadata": {
        "id": "Z8FzB2tXN0kW"
      },
      "execution_count": 273,
      "outputs": []
    }
  ]
}
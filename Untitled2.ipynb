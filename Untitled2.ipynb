{
  "nbformat": 4,
  "nbformat_minor": 0,
  "metadata": {
    "colab": {
      "provenance": [],
      "collapsed_sections": [],
      "authorship_tag": "ABX9TyPvCTO5CMB0c70gc01f0D34",
      "include_colab_link": true
    },
    "kernelspec": {
      "name": "python3",
      "display_name": "Python 3"
    },
    "language_info": {
      "name": "python"
    }
  },
  "cells": [
    {
      "cell_type": "markdown",
      "metadata": {
        "id": "view-in-github",
        "colab_type": "text"
      },
      "source": [
        "<a href=\"https://colab.research.google.com/github/kvl38/Additional_education/blob/master/Untitled2.ipynb\" target=\"_parent\"><img src=\"https://colab.research.google.com/assets/colab-badge.svg\" alt=\"Open In Colab\"/></a>"
      ]
    },
    {
      "cell_type": "code",
      "execution_count": 34,
      "metadata": {
        "id": "5D8JMj3Qo8Z4"
      },
      "outputs": [],
      "source": [
        "import numpy as np\n",
        "import pandas as pd\n",
        "import matplotlib.pyplot as plt\n",
        "%matplotlib inline"
      ]
    },
    {
      "cell_type": "code",
      "source": [
        "from google.colab import files\n",
        "load = files.upload()"
      ],
      "metadata": {
        "colab": {
          "base_uri": "https://localhost:8080/",
          "height": 108
        },
        "id": "aVcZn9MhA9tp",
        "outputId": "6b1c1650-63b6-4dc6-ac1f-837a387a53be"
      },
      "execution_count": null,
      "outputs": [
        {
          "output_type": "display_data",
          "data": {
            "text/plain": [
              "<IPython.core.display.HTML object>"
            ],
            "text/html": [
              "\n",
              "     <input type=\"file\" id=\"files-561ff7f7-26a4-4eab-b83b-d27ada0e2702\" name=\"files[]\" multiple disabled\n",
              "        style=\"border:none\" />\n",
              "     <output id=\"result-561ff7f7-26a4-4eab-b83b-d27ada0e2702\">\n",
              "      Upload widget is only available when the cell has been executed in the\n",
              "      current browser session. Please rerun this cell to enable.\n",
              "      </output>\n",
              "      <script>// Copyright 2017 Google LLC\n",
              "//\n",
              "// Licensed under the Apache License, Version 2.0 (the \"License\");\n",
              "// you may not use this file except in compliance with the License.\n",
              "// You may obtain a copy of the License at\n",
              "//\n",
              "//      http://www.apache.org/licenses/LICENSE-2.0\n",
              "//\n",
              "// Unless required by applicable law or agreed to in writing, software\n",
              "// distributed under the License is distributed on an \"AS IS\" BASIS,\n",
              "// WITHOUT WARRANTIES OR CONDITIONS OF ANY KIND, either express or implied.\n",
              "// See the License for the specific language governing permissions and\n",
              "// limitations under the License.\n",
              "\n",
              "/**\n",
              " * @fileoverview Helpers for google.colab Python module.\n",
              " */\n",
              "(function(scope) {\n",
              "function span(text, styleAttributes = {}) {\n",
              "  const element = document.createElement('span');\n",
              "  element.textContent = text;\n",
              "  for (const key of Object.keys(styleAttributes)) {\n",
              "    element.style[key] = styleAttributes[key];\n",
              "  }\n",
              "  return element;\n",
              "}\n",
              "\n",
              "// Max number of bytes which will be uploaded at a time.\n",
              "const MAX_PAYLOAD_SIZE = 100 * 1024;\n",
              "\n",
              "function _uploadFiles(inputId, outputId) {\n",
              "  const steps = uploadFilesStep(inputId, outputId);\n",
              "  const outputElement = document.getElementById(outputId);\n",
              "  // Cache steps on the outputElement to make it available for the next call\n",
              "  // to uploadFilesContinue from Python.\n",
              "  outputElement.steps = steps;\n",
              "\n",
              "  return _uploadFilesContinue(outputId);\n",
              "}\n",
              "\n",
              "// This is roughly an async generator (not supported in the browser yet),\n",
              "// where there are multiple asynchronous steps and the Python side is going\n",
              "// to poll for completion of each step.\n",
              "// This uses a Promise to block the python side on completion of each step,\n",
              "// then passes the result of the previous step as the input to the next step.\n",
              "function _uploadFilesContinue(outputId) {\n",
              "  const outputElement = document.getElementById(outputId);\n",
              "  const steps = outputElement.steps;\n",
              "\n",
              "  const next = steps.next(outputElement.lastPromiseValue);\n",
              "  return Promise.resolve(next.value.promise).then((value) => {\n",
              "    // Cache the last promise value to make it available to the next\n",
              "    // step of the generator.\n",
              "    outputElement.lastPromiseValue = value;\n",
              "    return next.value.response;\n",
              "  });\n",
              "}\n",
              "\n",
              "/**\n",
              " * Generator function which is called between each async step of the upload\n",
              " * process.\n",
              " * @param {string} inputId Element ID of the input file picker element.\n",
              " * @param {string} outputId Element ID of the output display.\n",
              " * @return {!Iterable<!Object>} Iterable of next steps.\n",
              " */\n",
              "function* uploadFilesStep(inputId, outputId) {\n",
              "  const inputElement = document.getElementById(inputId);\n",
              "  inputElement.disabled = false;\n",
              "\n",
              "  const outputElement = document.getElementById(outputId);\n",
              "  outputElement.innerHTML = '';\n",
              "\n",
              "  const pickedPromise = new Promise((resolve) => {\n",
              "    inputElement.addEventListener('change', (e) => {\n",
              "      resolve(e.target.files);\n",
              "    });\n",
              "  });\n",
              "\n",
              "  const cancel = document.createElement('button');\n",
              "  inputElement.parentElement.appendChild(cancel);\n",
              "  cancel.textContent = 'Cancel upload';\n",
              "  const cancelPromise = new Promise((resolve) => {\n",
              "    cancel.onclick = () => {\n",
              "      resolve(null);\n",
              "    };\n",
              "  });\n",
              "\n",
              "  // Wait for the user to pick the files.\n",
              "  const files = yield {\n",
              "    promise: Promise.race([pickedPromise, cancelPromise]),\n",
              "    response: {\n",
              "      action: 'starting',\n",
              "    }\n",
              "  };\n",
              "\n",
              "  cancel.remove();\n",
              "\n",
              "  // Disable the input element since further picks are not allowed.\n",
              "  inputElement.disabled = true;\n",
              "\n",
              "  if (!files) {\n",
              "    return {\n",
              "      response: {\n",
              "        action: 'complete',\n",
              "      }\n",
              "    };\n",
              "  }\n",
              "\n",
              "  for (const file of files) {\n",
              "    const li = document.createElement('li');\n",
              "    li.append(span(file.name, {fontWeight: 'bold'}));\n",
              "    li.append(span(\n",
              "        `(${file.type || 'n/a'}) - ${file.size} bytes, ` +\n",
              "        `last modified: ${\n",
              "            file.lastModifiedDate ? file.lastModifiedDate.toLocaleDateString() :\n",
              "                                    'n/a'} - `));\n",
              "    const percent = span('0% done');\n",
              "    li.appendChild(percent);\n",
              "\n",
              "    outputElement.appendChild(li);\n",
              "\n",
              "    const fileDataPromise = new Promise((resolve) => {\n",
              "      const reader = new FileReader();\n",
              "      reader.onload = (e) => {\n",
              "        resolve(e.target.result);\n",
              "      };\n",
              "      reader.readAsArrayBuffer(file);\n",
              "    });\n",
              "    // Wait for the data to be ready.\n",
              "    let fileData = yield {\n",
              "      promise: fileDataPromise,\n",
              "      response: {\n",
              "        action: 'continue',\n",
              "      }\n",
              "    };\n",
              "\n",
              "    // Use a chunked sending to avoid message size limits. See b/62115660.\n",
              "    let position = 0;\n",
              "    do {\n",
              "      const length = Math.min(fileData.byteLength - position, MAX_PAYLOAD_SIZE);\n",
              "      const chunk = new Uint8Array(fileData, position, length);\n",
              "      position += length;\n",
              "\n",
              "      const base64 = btoa(String.fromCharCode.apply(null, chunk));\n",
              "      yield {\n",
              "        response: {\n",
              "          action: 'append',\n",
              "          file: file.name,\n",
              "          data: base64,\n",
              "        },\n",
              "      };\n",
              "\n",
              "      let percentDone = fileData.byteLength === 0 ?\n",
              "          100 :\n",
              "          Math.round((position / fileData.byteLength) * 100);\n",
              "      percent.textContent = `${percentDone}% done`;\n",
              "\n",
              "    } while (position < fileData.byteLength);\n",
              "  }\n",
              "\n",
              "  // All done.\n",
              "  yield {\n",
              "    response: {\n",
              "      action: 'complete',\n",
              "    }\n",
              "  };\n",
              "}\n",
              "\n",
              "scope.google = scope.google || {};\n",
              "scope.google.colab = scope.google.colab || {};\n",
              "scope.google.colab._files = {\n",
              "  _uploadFiles,\n",
              "  _uploadFilesContinue,\n",
              "};\n",
              "})(self);\n",
              "</script> "
            ]
          },
          "metadata": {}
        },
        {
          "output_type": "stream",
          "name": "stdout",
          "text": [
            "Saving titanic_data.csv to titanic_data.csv\n",
            "Saving titanic_surv.csv to titanic_surv.csv\n"
          ]
        }
      ]
    },
    {
      "cell_type": "code",
      "source": [
        "data = pd.read_csv(\"titanic_data.csv\", index_col=\"PassengerId\")\n",
        "data.head()"
      ],
      "metadata": {
        "colab": {
          "base_uri": "https://localhost:8080/",
          "height": 237
        },
        "id": "0izniz7JCdkw",
        "outputId": "975d8db3-0123-401e-abc4-07636d4842a0"
      },
      "execution_count": 35,
      "outputs": [
        {
          "output_type": "execute_result",
          "data": {
            "text/plain": [
              "             Pclass                                               Name  \\\n",
              "PassengerId                                                              \n",
              "1                 3                            Braund, Mr. Owen Harris   \n",
              "2                 1  Cumings, Mrs. John Bradley (Florence Briggs Th...   \n",
              "3                 3                             Heikkinen, Miss. Laina   \n",
              "4                 1       Futrelle, Mrs. Jacques Heath (Lily May Peel)   \n",
              "5                 3                           Allen, Mr. William Henry   \n",
              "\n",
              "                Sex   Age  SibSp  Parch            Ticket     Fare Cabin  \\\n",
              "PassengerId                                                                \n",
              "1              male  22.0      1      0         A/5 21171   7.2500   NaN   \n",
              "2            female  38.0      1      0          PC 17599  71.2833   C85   \n",
              "3            female  26.0      0      0  STON/O2. 3101282   7.9250   NaN   \n",
              "4            female  35.0      1      0            113803  53.1000  C123   \n",
              "5              male  35.0      0      0            373450   8.0500   NaN   \n",
              "\n",
              "            Embarked  \n",
              "PassengerId           \n",
              "1                  S  \n",
              "2                  C  \n",
              "3                  S  \n",
              "4                  S  \n",
              "5                  S  "
            ],
            "text/html": [
              "\n",
              "  <div id=\"df-eda802a7-8ba5-4fb5-9755-ae4f2d161fca\">\n",
              "    <div class=\"colab-df-container\">\n",
              "      <div>\n",
              "<style scoped>\n",
              "    .dataframe tbody tr th:only-of-type {\n",
              "        vertical-align: middle;\n",
              "    }\n",
              "\n",
              "    .dataframe tbody tr th {\n",
              "        vertical-align: top;\n",
              "    }\n",
              "\n",
              "    .dataframe thead th {\n",
              "        text-align: right;\n",
              "    }\n",
              "</style>\n",
              "<table border=\"1\" class=\"dataframe\">\n",
              "  <thead>\n",
              "    <tr style=\"text-align: right;\">\n",
              "      <th></th>\n",
              "      <th>Pclass</th>\n",
              "      <th>Name</th>\n",
              "      <th>Sex</th>\n",
              "      <th>Age</th>\n",
              "      <th>SibSp</th>\n",
              "      <th>Parch</th>\n",
              "      <th>Ticket</th>\n",
              "      <th>Fare</th>\n",
              "      <th>Cabin</th>\n",
              "      <th>Embarked</th>\n",
              "    </tr>\n",
              "    <tr>\n",
              "      <th>PassengerId</th>\n",
              "      <th></th>\n",
              "      <th></th>\n",
              "      <th></th>\n",
              "      <th></th>\n",
              "      <th></th>\n",
              "      <th></th>\n",
              "      <th></th>\n",
              "      <th></th>\n",
              "      <th></th>\n",
              "      <th></th>\n",
              "    </tr>\n",
              "  </thead>\n",
              "  <tbody>\n",
              "    <tr>\n",
              "      <th>1</th>\n",
              "      <td>3</td>\n",
              "      <td>Braund, Mr. Owen Harris</td>\n",
              "      <td>male</td>\n",
              "      <td>22.0</td>\n",
              "      <td>1</td>\n",
              "      <td>0</td>\n",
              "      <td>A/5 21171</td>\n",
              "      <td>7.2500</td>\n",
              "      <td>NaN</td>\n",
              "      <td>S</td>\n",
              "    </tr>\n",
              "    <tr>\n",
              "      <th>2</th>\n",
              "      <td>1</td>\n",
              "      <td>Cumings, Mrs. John Bradley (Florence Briggs Th...</td>\n",
              "      <td>female</td>\n",
              "      <td>38.0</td>\n",
              "      <td>1</td>\n",
              "      <td>0</td>\n",
              "      <td>PC 17599</td>\n",
              "      <td>71.2833</td>\n",
              "      <td>C85</td>\n",
              "      <td>C</td>\n",
              "    </tr>\n",
              "    <tr>\n",
              "      <th>3</th>\n",
              "      <td>3</td>\n",
              "      <td>Heikkinen, Miss. Laina</td>\n",
              "      <td>female</td>\n",
              "      <td>26.0</td>\n",
              "      <td>0</td>\n",
              "      <td>0</td>\n",
              "      <td>STON/O2. 3101282</td>\n",
              "      <td>7.9250</td>\n",
              "      <td>NaN</td>\n",
              "      <td>S</td>\n",
              "    </tr>\n",
              "    <tr>\n",
              "      <th>4</th>\n",
              "      <td>1</td>\n",
              "      <td>Futrelle, Mrs. Jacques Heath (Lily May Peel)</td>\n",
              "      <td>female</td>\n",
              "      <td>35.0</td>\n",
              "      <td>1</td>\n",
              "      <td>0</td>\n",
              "      <td>113803</td>\n",
              "      <td>53.1000</td>\n",
              "      <td>C123</td>\n",
              "      <td>S</td>\n",
              "    </tr>\n",
              "    <tr>\n",
              "      <th>5</th>\n",
              "      <td>3</td>\n",
              "      <td>Allen, Mr. William Henry</td>\n",
              "      <td>male</td>\n",
              "      <td>35.0</td>\n",
              "      <td>0</td>\n",
              "      <td>0</td>\n",
              "      <td>373450</td>\n",
              "      <td>8.0500</td>\n",
              "      <td>NaN</td>\n",
              "      <td>S</td>\n",
              "    </tr>\n",
              "  </tbody>\n",
              "</table>\n",
              "</div>\n",
              "      <button class=\"colab-df-convert\" onclick=\"convertToInteractive('df-eda802a7-8ba5-4fb5-9755-ae4f2d161fca')\"\n",
              "              title=\"Convert this dataframe to an interactive table.\"\n",
              "              style=\"display:none;\">\n",
              "        \n",
              "  <svg xmlns=\"http://www.w3.org/2000/svg\" height=\"24px\"viewBox=\"0 0 24 24\"\n",
              "       width=\"24px\">\n",
              "    <path d=\"M0 0h24v24H0V0z\" fill=\"none\"/>\n",
              "    <path d=\"M18.56 5.44l.94 2.06.94-2.06 2.06-.94-2.06-.94-.94-2.06-.94 2.06-2.06.94zm-11 1L8.5 8.5l.94-2.06 2.06-.94-2.06-.94L8.5 2.5l-.94 2.06-2.06.94zm10 10l.94 2.06.94-2.06 2.06-.94-2.06-.94-.94-2.06-.94 2.06-2.06.94z\"/><path d=\"M17.41 7.96l-1.37-1.37c-.4-.4-.92-.59-1.43-.59-.52 0-1.04.2-1.43.59L10.3 9.45l-7.72 7.72c-.78.78-.78 2.05 0 2.83L4 21.41c.39.39.9.59 1.41.59.51 0 1.02-.2 1.41-.59l7.78-7.78 2.81-2.81c.8-.78.8-2.07 0-2.86zM5.41 20L4 18.59l7.72-7.72 1.47 1.35L5.41 20z\"/>\n",
              "  </svg>\n",
              "      </button>\n",
              "      \n",
              "  <style>\n",
              "    .colab-df-container {\n",
              "      display:flex;\n",
              "      flex-wrap:wrap;\n",
              "      gap: 12px;\n",
              "    }\n",
              "\n",
              "    .colab-df-convert {\n",
              "      background-color: #E8F0FE;\n",
              "      border: none;\n",
              "      border-radius: 50%;\n",
              "      cursor: pointer;\n",
              "      display: none;\n",
              "      fill: #1967D2;\n",
              "      height: 32px;\n",
              "      padding: 0 0 0 0;\n",
              "      width: 32px;\n",
              "    }\n",
              "\n",
              "    .colab-df-convert:hover {\n",
              "      background-color: #E2EBFA;\n",
              "      box-shadow: 0px 1px 2px rgba(60, 64, 67, 0.3), 0px 1px 3px 1px rgba(60, 64, 67, 0.15);\n",
              "      fill: #174EA6;\n",
              "    }\n",
              "\n",
              "    [theme=dark] .colab-df-convert {\n",
              "      background-color: #3B4455;\n",
              "      fill: #D2E3FC;\n",
              "    }\n",
              "\n",
              "    [theme=dark] .colab-df-convert:hover {\n",
              "      background-color: #434B5C;\n",
              "      box-shadow: 0px 1px 3px 1px rgba(0, 0, 0, 0.15);\n",
              "      filter: drop-shadow(0px 1px 2px rgba(0, 0, 0, 0.3));\n",
              "      fill: #FFFFFF;\n",
              "    }\n",
              "  </style>\n",
              "\n",
              "      <script>\n",
              "        const buttonEl =\n",
              "          document.querySelector('#df-eda802a7-8ba5-4fb5-9755-ae4f2d161fca button.colab-df-convert');\n",
              "        buttonEl.style.display =\n",
              "          google.colab.kernel.accessAllowed ? 'block' : 'none';\n",
              "\n",
              "        async function convertToInteractive(key) {\n",
              "          const element = document.querySelector('#df-eda802a7-8ba5-4fb5-9755-ae4f2d161fca');\n",
              "          const dataTable =\n",
              "            await google.colab.kernel.invokeFunction('convertToInteractive',\n",
              "                                                     [key], {});\n",
              "          if (!dataTable) return;\n",
              "\n",
              "          const docLinkHtml = 'Like what you see? Visit the ' +\n",
              "            '<a target=\"_blank\" href=https://colab.research.google.com/notebooks/data_table.ipynb>data table notebook</a>'\n",
              "            + ' to learn more about interactive tables.';\n",
              "          element.innerHTML = '';\n",
              "          dataTable['output_type'] = 'display_data';\n",
              "          await google.colab.output.renderOutput(dataTable, element);\n",
              "          const docLink = document.createElement('div');\n",
              "          docLink.innerHTML = docLinkHtml;\n",
              "          element.appendChild(docLink);\n",
              "        }\n",
              "      </script>\n",
              "    </div>\n",
              "  </div>\n",
              "  "
            ]
          },
          "metadata": {},
          "execution_count": 35
        }
      ]
    },
    {
      "cell_type": "code",
      "source": [
        "basic_features = data.columns\n",
        "\n",
        "y = pd.read_csv('titanic_surv.csv')\n",
        "y.index = data.index\n",
        "\n",
        "print(f'Всего {len(data)} пассажиров в выборке')\n",
        "data = data.join(y)\n",
        "data.head()"
      ],
      "metadata": {
        "id": "J_244pgMFStG",
        "colab": {
          "base_uri": "https://localhost:8080/",
          "height": 255
        },
        "outputId": "d07fe08d-a974-40e7-cb03-2cad3818ebca"
      },
      "execution_count": 36,
      "outputs": [
        {
          "output_type": "stream",
          "name": "stdout",
          "text": [
            "Всего 891 пассажиров в выборке\n"
          ]
        },
        {
          "output_type": "execute_result",
          "data": {
            "text/plain": [
              "             Pclass                                               Name  \\\n",
              "PassengerId                                                              \n",
              "1                 3                            Braund, Mr. Owen Harris   \n",
              "2                 1  Cumings, Mrs. John Bradley (Florence Briggs Th...   \n",
              "3                 3                             Heikkinen, Miss. Laina   \n",
              "4                 1       Futrelle, Mrs. Jacques Heath (Lily May Peel)   \n",
              "5                 3                           Allen, Mr. William Henry   \n",
              "\n",
              "                Sex   Age  SibSp  Parch            Ticket     Fare Cabin  \\\n",
              "PassengerId                                                                \n",
              "1              male  22.0      1      0         A/5 21171   7.2500   NaN   \n",
              "2            female  38.0      1      0          PC 17599  71.2833   C85   \n",
              "3            female  26.0      0      0  STON/O2. 3101282   7.9250   NaN   \n",
              "4            female  35.0      1      0            113803  53.1000  C123   \n",
              "5              male  35.0      0      0            373450   8.0500   NaN   \n",
              "\n",
              "            Embarked  Survived  \n",
              "PassengerId                     \n",
              "1                  S         0  \n",
              "2                  C         1  \n",
              "3                  S         1  \n",
              "4                  S         1  \n",
              "5                  S         0  "
            ],
            "text/html": [
              "\n",
              "  <div id=\"df-600f3261-9262-4110-9223-c4f874d94c15\">\n",
              "    <div class=\"colab-df-container\">\n",
              "      <div>\n",
              "<style scoped>\n",
              "    .dataframe tbody tr th:only-of-type {\n",
              "        vertical-align: middle;\n",
              "    }\n",
              "\n",
              "    .dataframe tbody tr th {\n",
              "        vertical-align: top;\n",
              "    }\n",
              "\n",
              "    .dataframe thead th {\n",
              "        text-align: right;\n",
              "    }\n",
              "</style>\n",
              "<table border=\"1\" class=\"dataframe\">\n",
              "  <thead>\n",
              "    <tr style=\"text-align: right;\">\n",
              "      <th></th>\n",
              "      <th>Pclass</th>\n",
              "      <th>Name</th>\n",
              "      <th>Sex</th>\n",
              "      <th>Age</th>\n",
              "      <th>SibSp</th>\n",
              "      <th>Parch</th>\n",
              "      <th>Ticket</th>\n",
              "      <th>Fare</th>\n",
              "      <th>Cabin</th>\n",
              "      <th>Embarked</th>\n",
              "      <th>Survived</th>\n",
              "    </tr>\n",
              "    <tr>\n",
              "      <th>PassengerId</th>\n",
              "      <th></th>\n",
              "      <th></th>\n",
              "      <th></th>\n",
              "      <th></th>\n",
              "      <th></th>\n",
              "      <th></th>\n",
              "      <th></th>\n",
              "      <th></th>\n",
              "      <th></th>\n",
              "      <th></th>\n",
              "      <th></th>\n",
              "    </tr>\n",
              "  </thead>\n",
              "  <tbody>\n",
              "    <tr>\n",
              "      <th>1</th>\n",
              "      <td>3</td>\n",
              "      <td>Braund, Mr. Owen Harris</td>\n",
              "      <td>male</td>\n",
              "      <td>22.0</td>\n",
              "      <td>1</td>\n",
              "      <td>0</td>\n",
              "      <td>A/5 21171</td>\n",
              "      <td>7.2500</td>\n",
              "      <td>NaN</td>\n",
              "      <td>S</td>\n",
              "      <td>0</td>\n",
              "    </tr>\n",
              "    <tr>\n",
              "      <th>2</th>\n",
              "      <td>1</td>\n",
              "      <td>Cumings, Mrs. John Bradley (Florence Briggs Th...</td>\n",
              "      <td>female</td>\n",
              "      <td>38.0</td>\n",
              "      <td>1</td>\n",
              "      <td>0</td>\n",
              "      <td>PC 17599</td>\n",
              "      <td>71.2833</td>\n",
              "      <td>C85</td>\n",
              "      <td>C</td>\n",
              "      <td>1</td>\n",
              "    </tr>\n",
              "    <tr>\n",
              "      <th>3</th>\n",
              "      <td>3</td>\n",
              "      <td>Heikkinen, Miss. Laina</td>\n",
              "      <td>female</td>\n",
              "      <td>26.0</td>\n",
              "      <td>0</td>\n",
              "      <td>0</td>\n",
              "      <td>STON/O2. 3101282</td>\n",
              "      <td>7.9250</td>\n",
              "      <td>NaN</td>\n",
              "      <td>S</td>\n",
              "      <td>1</td>\n",
              "    </tr>\n",
              "    <tr>\n",
              "      <th>4</th>\n",
              "      <td>1</td>\n",
              "      <td>Futrelle, Mrs. Jacques Heath (Lily May Peel)</td>\n",
              "      <td>female</td>\n",
              "      <td>35.0</td>\n",
              "      <td>1</td>\n",
              "      <td>0</td>\n",
              "      <td>113803</td>\n",
              "      <td>53.1000</td>\n",
              "      <td>C123</td>\n",
              "      <td>S</td>\n",
              "      <td>1</td>\n",
              "    </tr>\n",
              "    <tr>\n",
              "      <th>5</th>\n",
              "      <td>3</td>\n",
              "      <td>Allen, Mr. William Henry</td>\n",
              "      <td>male</td>\n",
              "      <td>35.0</td>\n",
              "      <td>0</td>\n",
              "      <td>0</td>\n",
              "      <td>373450</td>\n",
              "      <td>8.0500</td>\n",
              "      <td>NaN</td>\n",
              "      <td>S</td>\n",
              "      <td>0</td>\n",
              "    </tr>\n",
              "  </tbody>\n",
              "</table>\n",
              "</div>\n",
              "      <button class=\"colab-df-convert\" onclick=\"convertToInteractive('df-600f3261-9262-4110-9223-c4f874d94c15')\"\n",
              "              title=\"Convert this dataframe to an interactive table.\"\n",
              "              style=\"display:none;\">\n",
              "        \n",
              "  <svg xmlns=\"http://www.w3.org/2000/svg\" height=\"24px\"viewBox=\"0 0 24 24\"\n",
              "       width=\"24px\">\n",
              "    <path d=\"M0 0h24v24H0V0z\" fill=\"none\"/>\n",
              "    <path d=\"M18.56 5.44l.94 2.06.94-2.06 2.06-.94-2.06-.94-.94-2.06-.94 2.06-2.06.94zm-11 1L8.5 8.5l.94-2.06 2.06-.94-2.06-.94L8.5 2.5l-.94 2.06-2.06.94zm10 10l.94 2.06.94-2.06 2.06-.94-2.06-.94-.94-2.06-.94 2.06-2.06.94z\"/><path d=\"M17.41 7.96l-1.37-1.37c-.4-.4-.92-.59-1.43-.59-.52 0-1.04.2-1.43.59L10.3 9.45l-7.72 7.72c-.78.78-.78 2.05 0 2.83L4 21.41c.39.39.9.59 1.41.59.51 0 1.02-.2 1.41-.59l7.78-7.78 2.81-2.81c.8-.78.8-2.07 0-2.86zM5.41 20L4 18.59l7.72-7.72 1.47 1.35L5.41 20z\"/>\n",
              "  </svg>\n",
              "      </button>\n",
              "      \n",
              "  <style>\n",
              "    .colab-df-container {\n",
              "      display:flex;\n",
              "      flex-wrap:wrap;\n",
              "      gap: 12px;\n",
              "    }\n",
              "\n",
              "    .colab-df-convert {\n",
              "      background-color: #E8F0FE;\n",
              "      border: none;\n",
              "      border-radius: 50%;\n",
              "      cursor: pointer;\n",
              "      display: none;\n",
              "      fill: #1967D2;\n",
              "      height: 32px;\n",
              "      padding: 0 0 0 0;\n",
              "      width: 32px;\n",
              "    }\n",
              "\n",
              "    .colab-df-convert:hover {\n",
              "      background-color: #E2EBFA;\n",
              "      box-shadow: 0px 1px 2px rgba(60, 64, 67, 0.3), 0px 1px 3px 1px rgba(60, 64, 67, 0.15);\n",
              "      fill: #174EA6;\n",
              "    }\n",
              "\n",
              "    [theme=dark] .colab-df-convert {\n",
              "      background-color: #3B4455;\n",
              "      fill: #D2E3FC;\n",
              "    }\n",
              "\n",
              "    [theme=dark] .colab-df-convert:hover {\n",
              "      background-color: #434B5C;\n",
              "      box-shadow: 0px 1px 3px 1px rgba(0, 0, 0, 0.15);\n",
              "      filter: drop-shadow(0px 1px 2px rgba(0, 0, 0, 0.3));\n",
              "      fill: #FFFFFF;\n",
              "    }\n",
              "  </style>\n",
              "\n",
              "      <script>\n",
              "        const buttonEl =\n",
              "          document.querySelector('#df-600f3261-9262-4110-9223-c4f874d94c15 button.colab-df-convert');\n",
              "        buttonEl.style.display =\n",
              "          google.colab.kernel.accessAllowed ? 'block' : 'none';\n",
              "\n",
              "        async function convertToInteractive(key) {\n",
              "          const element = document.querySelector('#df-600f3261-9262-4110-9223-c4f874d94c15');\n",
              "          const dataTable =\n",
              "            await google.colab.kernel.invokeFunction('convertToInteractive',\n",
              "                                                     [key], {});\n",
              "          if (!dataTable) return;\n",
              "\n",
              "          const docLinkHtml = 'Like what you see? Visit the ' +\n",
              "            '<a target=\"_blank\" href=https://colab.research.google.com/notebooks/data_table.ipynb>data table notebook</a>'\n",
              "            + ' to learn more about interactive tables.';\n",
              "          element.innerHTML = '';\n",
              "          dataTable['output_type'] = 'display_data';\n",
              "          await google.colab.output.renderOutput(dataTable, element);\n",
              "          const docLink = document.createElement('div');\n",
              "          docLink.innerHTML = docLinkHtml;\n",
              "          element.appendChild(docLink);\n",
              "        }\n",
              "      </script>\n",
              "    </div>\n",
              "  </div>\n",
              "  "
            ]
          },
          "metadata": {},
          "execution_count": 36
        }
      ]
    },
    {
      "cell_type": "markdown",
      "source": [
        "Исследование датасета.\n",
        "Задание 1\n",
        "\n",
        "Опишите датасет. Сколько в нём мужчин, сколько женщин? Посчитайте распределение по классам пассажиров. Используйте функцию pd.Series.value_counts. \n",
        "\n",
        "Посчитайте долю выживших мужчин к общему количеству мужчин, а также женщин к общему количеству женщин. Сделайте выводы. Проведите схожую аналитику по возрасту выживших и по классу выживших.\n",
        "\n",
        "Вам поможет функция plt.hist(). \n"
      ],
      "metadata": {
        "id": "pwXhoVTXGAx2"
      }
    },
    {
      "cell_type": "code",
      "source": [
        "#Задание 1\n",
        "number_of_survivors = data['Sex'].value_counts()\n",
        "# print(number_of_survivors)\n",
        "\n",
        "#Male\n",
        "alive_m = data.loc[data.Sex == 'male']['Survived'].value_counts()\n",
        "proportion_of_male_survivors = alive_m[1] / number_of_survivors[0]\n",
        "print(\"Доля выживших мужчин: \", proportion_of_male_survivors)\n",
        "\n",
        "#Female\n",
        "alive_f = data.loc[data.Sex == 'female']['Survived'].value_counts()\n",
        "proportion_of_male_survivors = alive_f[1] / number_of_survivors[1]\n",
        "print(\"Доля выживших женщин: \", proportion_of_male_survivors)\n",
        "\n",
        "#Age\n",
        "mean_age_of_surv = data.loc[data[\"Survived\"] == 1, \"Age\"]\n",
        "mean_age_of_dec = data.loc[data[\"Survived\"] == 0, \"Age\"]\n",
        "print(\"Средний возраст выжившего пассажира: \", mean_age_of_surv.mean())\n",
        "print(\"Средний возраст погибшего пассажира: \", mean_age_of_dec.mean())\n",
        "data[\"Age\"].hist(bins=15)\n",
        "plt.show()\n",
        "\n",
        "num_of_1pcl = data.loc[data[\"Pclass\"] == 1,'Survived']\n",
        "num_of_2pcl = data.loc[data[\"Pclass\"] == 2,'Survived']\n",
        "num_of_3pcl = data.loc[data[\"Pclass\"] == 3,'Survived']\n",
        "\n",
        "plt.title('Количество \"выживших\" / \"погибших\" по классам')\n",
        "width = 0.5\n",
        "x_list = [1,2,3]\n",
        "x_indexes = np.arange(len(x_list))\n",
        "plt.xticks(x_indexes, [\"Pclass1\", \"Pclass2\", \"Pclass3\"])\n",
        "y_list1 =  [num_of_1pcl.value_counts()[0], num_of_2pcl.value_counts()[0], num_of_3pcl.value_counts()[1]]\n",
        "y_list2 = [num_of_1pcl.value_counts()[1], num_of_2pcl.value_counts()[1], num_of_3pcl.value_counts()[0]]\n",
        "plt.bar(x_indexes - (width/2), y_list1, width=0.35, label=\"survived\")\n",
        "plt.bar(x_indexes + (width/2), y_list2, width=0.35, label=\"didn't survive\")\n",
        "plt.legend()\n",
        "plt.show()\n",
        "\n",
        "data[\"Pclass\"].hist()\n",
        "plt.title(\"Количество выживших в каждом классе\")\n",
        "plt.show()\n",
        "\n",
        "\n",
        "\n",
        "\n"
      ],
      "metadata": {
        "id": "9bSZs6J1GEeV",
        "colab": {
          "base_uri": "https://localhost:8080/",
          "height": 862
        },
        "outputId": "2f0c81dd-49da-4f3c-c955-e43c384e0dcf"
      },
      "execution_count": 37,
      "outputs": [
        {
          "output_type": "stream",
          "name": "stdout",
          "text": [
            "Доля выживших мужчин:  0.18890814558058924\n",
            "Доля выживших женщин:  0.7420382165605095\n",
            "Средний возраст выжившего пассажира:  28.343689655172415\n",
            "Средний возраст погибшего пассажира:  30.62617924528302\n"
          ]
        },
        {
          "output_type": "display_data",
          "data": {
            "text/plain": [
              "<Figure size 432x288 with 1 Axes>"
            ],
            "image/png": "[encoded data removed]"
          },
          "metadata": {
            "needs_background": "light"
          }
        },
        {
          "output_type": "display_data",
          "data": {
            "text/plain": [
              "<Figure size 432x288 with 1 Axes>"
            ],
            "image/png": "[encoded data removed]"
          },
          "metadata": {
            "needs_background": "light"
          }
        },
        {
          "output_type": "display_data",
          "data": {
            "text/plain": [
              "<Figure size 432x288 with 1 Axes>"
            ],
            "image/png": "[encoded data removed]"
          },
          "metadata": {
            "needs_background": "light"
          }
        }
      ]
    },
    {
      "cell_type": "markdown",
      "source": [
        "Заполнение пропусков в данных"
      ],
      "metadata": {
        "id": "nKp9KFg38PjC"
      }
    },
    {
      "cell_type": "code",
      "source": [
        "data.columns[data.isna().any()].tolist()"
      ],
      "metadata": {
        "colab": {
          "base_uri": "https://localhost:8080/"
        },
        "id": "Cu29i40L8kB9",
        "outputId": "15d4f649-d7ce-4757-acc9-0bfcf7bf66f6"
      },
      "execution_count": 38,
      "outputs": [
        {
          "output_type": "execute_result",
          "data": {
            "text/plain": [
              "['Age', 'Cabin', 'Embarked']"
            ]
          },
          "metadata": {},
          "execution_count": 38
        }
      ]
    },
    {
      "cell_type": "markdown",
      "source": [
        "Для простоты заполним все пропуски в категориальных колонках новым классом \"0\", а в числовой колонке Age --- медианным значением."
      ],
      "metadata": {
        "id": "Fyi2D4u68pDN"
      }
    },
    {
      "cell_type": "code",
      "source": [
        "data.loc[:, ['Cabin', 'Embarked']] = data.loc[:, ['Cabin', 'Embarked']].fillna('0')\n",
        "data['Age'] = data['Age'].fillna(data['Age'].median())"
      ],
      "metadata": {
        "id": "IeHqBKG08pfs"
      },
      "execution_count": 39,
      "outputs": []
    },
    {
      "cell_type": "markdown",
      "source": [
        "Задание 2.\n",
        "Разделите выборку на обучающее и тестовое множество в соотношении 70:30"
      ],
      "metadata": {
        "id": "7rP_Ftrk8tlZ"
      }
    },
    {
      "cell_type": "code",
      "source": [
        "#Задание 2\n",
        "from sklearn.model_selection import train_test_split\n",
        "data_train, data_test = train_test_split(data, test_size=0.3)"
      ],
      "metadata": {
        "id": "qqb2-DM281Dg"
      },
      "execution_count": 40,
      "outputs": []
    },
    {
      "cell_type": "markdown",
      "source": [
        "Задание 3.\n",
        "Сформируйте по крайней мере один новый признак и объясните ваш выбор"
      ],
      "metadata": {
        "id": "ZIGCJ3rI-sWi"
      }
    },
    {
      "cell_type": "code",
      "source": [
        "data['Cabin']\n",
        "print(data_train)"
      ],
      "metadata": {
        "id": "5HGvf_Er-s49",
        "colab": {
          "base_uri": "https://localhost:8080/"
        },
        "outputId": "b420d13e-6fc5-404a-d21e-89ce1faa3e86"
      },
      "execution_count": 41,
      "outputs": [
        {
          "output_type": "stream",
          "name": "stdout",
          "text": [
            "             Pclass                                             Name     Sex  \\\n",
            "PassengerId                                                                    \n",
            "634               1                    Parr, Mr. William Henry Marsh    male   \n",
            "816               1                                 Fry, Mr. Richard    male   \n",
            "770               3                 Gronnestad, Mr. Daniel Danielsen    male   \n",
            "441               2      Hart, Mrs. Benjamin (Esther Ada Bloomfield)  female   \n",
            "832               2                  Richards, Master. George Sibley    male   \n",
            "...             ...                                              ...     ...   \n",
            "606               3                    Lindell, Mr. Edvard Bengtsson    male   \n",
            "499               1  Allison, Mrs. Hudson J C (Bessie Waldo Daniels)  female   \n",
            "741               1                      Hawksford, Mr. Walter James    male   \n",
            "808               3                  Pettersson, Miss. Ellen Natalia  female   \n",
            "373               3                       Beavan, Mr. William Thomas    male   \n",
            "\n",
            "               Age  SibSp  Parch        Ticket      Fare    Cabin Embarked  \\\n",
            "PassengerId                                                                  \n",
            "634          28.00      0      0        112052    0.0000        0        S   \n",
            "816          28.00      0      0        112058    0.0000     B102        S   \n",
            "770          32.00      0      0          8471    8.3625        0        S   \n",
            "441          45.00      1      1  F.C.C. 13529   26.2500        0        S   \n",
            "832           0.83      1      1         29106   18.7500        0        S   \n",
            "...            ...    ...    ...           ...       ...      ...      ...   \n",
            "606          36.00      1      0        349910   15.5500        0        S   \n",
            "499          25.00      1      2        113781  151.5500  C22 C26        S   \n",
            "741          28.00      0      0         16988   30.0000      D45        S   \n",
            "808          18.00      0      0        347087    7.7750        0        S   \n",
            "373          19.00      0      0        323951    8.0500        0        S   \n",
            "\n",
            "             Survived  \n",
            "PassengerId            \n",
            "634                 0  \n",
            "816                 0  \n",
            "770                 0  \n",
            "441                 1  \n",
            "832                 1  \n",
            "...               ...  \n",
            "606                 0  \n",
            "499                 0  \n",
            "741                 1  \n",
            "808                 0  \n",
            "373                 0  \n",
            "\n",
            "[623 rows x 11 columns]\n"
          ]
        }
      ]
    },
    {
      "cell_type": "code",
      "source": [
        "#Задание 3\n",
        "additional_list = []\n",
        "\n",
        "'''Функция наполняет список данными о пассажирах: \n",
        "    мужчина: -1;\n",
        "    замужняя девушка: 1;\n",
        "    незамужняя девушка: 0 '''\n",
        "\n",
        "def is_married(row):\n",
        "    if row[2] == 'male':\n",
        "        additional_list.append(-1)\n",
        "    else:\n",
        "        if '(' in row[1]:\n",
        "            additional_list.append(1)\n",
        "        else: \n",
        "            additional_list.append(0)\n",
        "\n",
        "for i in range(len(data)):\n",
        "    is_married(data.iloc[i])\n",
        "\n",
        "#Добавляем новый столбец слева\n",
        "data[\"is_married\"] = additional_list\n",
        "print(data[['Name','is_married']])\n"
      ],
      "metadata": {
        "colab": {
          "base_uri": "https://localhost:8080/"
        },
        "id": "ijRTch-pBbiE",
        "outputId": "d0d02ab5-687c-4b09-a96f-8b64330191bd"
      },
      "execution_count": 42,
      "outputs": [
        {
          "output_type": "stream",
          "name": "stdout",
          "text": [
            "                                                          Name  is_married\n",
            "PassengerId                                                               \n",
            "1                                      Braund, Mr. Owen Harris          -1\n",
            "2            Cumings, Mrs. John Bradley (Florence Briggs Th...           1\n",
            "3                                       Heikkinen, Miss. Laina           0\n",
            "4                 Futrelle, Mrs. Jacques Heath (Lily May Peel)           1\n",
            "5                                     Allen, Mr. William Henry          -1\n",
            "...                                                        ...         ...\n",
            "887                                      Montvila, Rev. Juozas          -1\n",
            "888                               Graham, Miss. Margaret Edith           0\n",
            "889                   Johnston, Miss. Catherine Helen \"Carrie\"           0\n",
            "890                                      Behr, Mr. Karl Howell          -1\n",
            "891                                        Dooley, Mr. Patrick          -1\n",
            "\n",
            "[891 rows x 2 columns]\n"
          ]
        }
      ]
    },
    {
      "cell_type": "markdown",
      "source": [
        "Задание 4.\n",
        "Пока используя только изначальные признаки, перекодируйте категориальные признаки функцией pd.get_dummies. Естественно, имена пассажиров и номера билетов и кают кодировать не стоит, поскольку все значения этих признаков уникальные."
      ],
      "metadata": {
        "id": "fEe_fdSOKj35"
      }
    },
    {
      "cell_type": "code",
      "source": [
        "#Задание 4\n",
        "\n",
        "embarked = pd.get_dummies(data[\"Embarked\"], prefix=\"Emb\", drop_first = True)\n",
        "sex = pd.get_dummies(data[\"Sex\"])\n",
        "\n",
        "data = (data.drop([\"Embarked\", \"Sex\"], axis=1)).join(embarked)\n",
        "data = data.join(sex)\n",
        "\n",
        "print(data)"
      ],
      "metadata": {
        "id": "7_Xfcw-6Kk9S",
        "colab": {
          "base_uri": "https://localhost:8080/"
        },
        "outputId": "750d091c-6081-47e5-9f51-7aa3d5ad875e"
      },
      "execution_count": 43,
      "outputs": [
        {
          "output_type": "stream",
          "name": "stdout",
          "text": [
            "             Pclass                                               Name   Age  \\\n",
            "PassengerId                                                                    \n",
            "1                 3                            Braund, Mr. Owen Harris  22.0   \n",
            "2                 1  Cumings, Mrs. John Bradley (Florence Briggs Th...  38.0   \n",
            "3                 3                             Heikkinen, Miss. Laina  26.0   \n",
            "4                 1       Futrelle, Mrs. Jacques Heath (Lily May Peel)  35.0   \n",
            "5                 3                           Allen, Mr. William Henry  35.0   \n",
            "...             ...                                                ...   ...   \n",
            "887               2                              Montvila, Rev. Juozas  27.0   \n",
            "888               1                       Graham, Miss. Margaret Edith  19.0   \n",
            "889               3           Johnston, Miss. Catherine Helen \"Carrie\"  28.0   \n",
            "890               1                              Behr, Mr. Karl Howell  26.0   \n",
            "891               3                                Dooley, Mr. Patrick  32.0   \n",
            "\n",
            "             SibSp  Parch            Ticket     Fare Cabin  Survived  \\\n",
            "PassengerId                                                            \n",
            "1                1      0         A/5 21171   7.2500     0         0   \n",
            "2                1      0          PC 17599  71.2833   C85         1   \n",
            "3                0      0  STON/O2. 3101282   7.9250     0         1   \n",
            "4                1      0            113803  53.1000  C123         1   \n",
            "5                0      0            373450   8.0500     0         0   \n",
            "...            ...    ...               ...      ...   ...       ...   \n",
            "887              0      0            211536  13.0000     0         0   \n",
            "888              0      0            112053  30.0000   B42         1   \n",
            "889              1      2        W./C. 6607  23.4500     0         0   \n",
            "890              0      0            111369  30.0000  C148         1   \n",
            "891              0      0            370376   7.7500     0         0   \n",
            "\n",
            "             is_married  Emb_C  Emb_Q  Emb_S  female  male  \n",
            "PassengerId                                                 \n",
            "1                    -1      0      0      1       0     1  \n",
            "2                     1      1      0      0       1     0  \n",
            "3                     0      0      0      1       1     0  \n",
            "4                     1      0      0      1       1     0  \n",
            "5                    -1      0      0      1       0     1  \n",
            "...                 ...    ...    ...    ...     ...   ...  \n",
            "887                  -1      0      0      1       0     1  \n",
            "888                   0      0      0      1       1     0  \n",
            "889                   0      0      0      1       1     0  \n",
            "890                  -1      1      0      0       0     1  \n",
            "891                  -1      0      1      0       0     1  \n",
            "\n",
            "[891 rows x 15 columns]\n"
          ]
        }
      ]
    },
    {
      "cell_type": "markdown",
      "source": [
        "Задание 5.\n",
        "Обучите одну из простых известных вам моделей. Измерьте качество полученной модели на кросс-валидации (используйте только обучающую выборку!)"
      ],
      "metadata": {
        "id": "jYyTtz9QPI_g"
      }
    },
    {
      "cell_type": "code",
      "source": [
        "#Задание 5\n",
        "\n",
        "from sklearn.linear_model import LogisticRegression\n",
        "from sklearn.model_selection import KFold, cross_val_score\n",
        "from sklearn.preprocessing import StandardScaler\n",
        "from sklearn.model_selection import train_test_split\n",
        "\n",
        "data_train, data_test = train_test_split(data, test_size=0.3)\n",
        "\n",
        "X = data_train[:]\n",
        "y = data_train['Survived'][:]\n",
        "additional_data = data_train[['male', 'female', 'is_married']][:]\n",
        "\n",
        "X.drop([\"Survived\", \"Name\", \"Cabin\", \"Ticket\", \"is_married\", 'male', 'female'], axis=1, inplace=True)\n",
        "\n",
        "kf = KFold(n_splits=5, shuffle=True)\n",
        "clf = LogisticRegression(max_iter=300)\n",
        "clf.fit(X, y)\n",
        "result = np.mean(cross_val_score(clf, X, y, cv=kf, scoring='roc_auc'))\n",
        "\n",
        "print(\"\\nКачество полученной модели: \", result)"
      ],
      "metadata": {
        "colab": {
          "base_uri": "https://localhost:8080/"
        },
        "id": "_3_4qDAKPzCh",
        "outputId": "1701a75a-e1e5-49bd-cc37-8df90ca38f17"
      },
      "execution_count": 44,
      "outputs": [
        {
          "output_type": "stream",
          "name": "stderr",
          "text": [
            "/usr/local/lib/python3.7/dist-packages/pandas/core/frame.py:4913: SettingWithCopyWarning: \n",
            "A value is trying to be set on a copy of a slice from a DataFrame\n",
            "\n",
            "See the caveats in the documentation: https://pandas.pydata.org/pandas-docs/stable/user_guide/indexing.html#returning-a-view-versus-a-copy\n",
            "  errors=errors,\n"
          ]
        },
        {
          "output_type": "stream",
          "name": "stdout",
          "text": [
            "\n",
            "Качество полученной модели:  0.7442691321281774\n"
          ]
        }
      ]
    },
    {
      "cell_type": "markdown",
      "source": [
        "Задание 6.\n",
        "Добавьте в модель два новых сгенерированных признака. Если нужно, добавьте признаки, сгенерированные ohe-hot кодированием. Обучите ту же самую модель на расширенном множестве признаков. Улучшилось ли качество предсказания на кросс-валидации?"
      ],
      "metadata": {
        "id": "LbXdvtmqDH26"
      }
    },
    {
      "cell_type": "code",
      "source": [
        "#Задание 6\n",
        "\n",
        "#добавляем к X: ['male', 'female', 'is_married']\n",
        "X = X.join(additional_data)\n",
        "\n",
        "X = StandardScaler().fit_transform(X)\n",
        "\n",
        "clf.fit(X, y)\n",
        "result = np.mean(cross_val_score(clf, X, y, cv=kf, scoring='roc_auc'))\n",
        "\n",
        "print(\"Качество полученной модели: \", result)"
      ],
      "metadata": {
        "colab": {
          "base_uri": "https://localhost:8080/"
        },
        "id": "Y-MbCoQpDSPo",
        "outputId": "80fe6136-79b0-4161-cc82-739f8ea1c0c7"
      },
      "execution_count": 45,
      "outputs": [
        {
          "output_type": "stream",
          "name": "stdout",
          "text": [
            "Качество полученной модели:  0.8564238060639967\n"
          ]
        }
      ]
    },
    {
      "cell_type": "markdown",
      "source": [
        "Задание 7.\n",
        "Теперь более серьёзно подойдём к моделированию. Попробуйте несколько алгоритмов из тех, что мы проходили в курсе. Вам помогут ноутбуки с линейными алгоритмами и выбором модели. Хотя бы для одного алгоритма проведите подбор оптимального гиперпараметра."
      ],
      "metadata": {
        "id": "Au9gJn6dFZ2y"
      }
    },
    {
      "cell_type": "code",
      "source": [
        "#Задание 7\n",
        "\n",
        "from sklearn.ensemble import GradientBoostingClassifier\n",
        "\n",
        "number_of_trees = [10, 15, 30, 35, 40, 50, 90, 150]\n",
        "best_param, current_quality = 0, 0\n",
        "for i in number_of_trees:\n",
        "    print('\\nКол-во деревьев: ', i)\n",
        "    model = GradientBoostingClassifier(n_estimators=i, max_depth=2)\n",
        "    model.fit(X, y)\n",
        "    result = np.mean(cross_val_score(model, X, y, cv=kf, scoring='roc_auc'))\n",
        "    if current_quality <= result:\n",
        "        current_quality = result\n",
        "        best_param = i\n",
        "    print(result)\n",
        "\n",
        "print(\"\\nНаилучшее качество полученной модели достигнуто при 'n_estimators' =\", best_param, \"\\nКачество полученной модели: \", current_quality)"
      ],
      "metadata": {
        "colab": {
          "base_uri": "https://localhost:8080/"
        },
        "id": "CdYfujMUFfv4",
        "outputId": "4da09d18-ec66-4053-ede1-fcee7881b3d1"
      },
      "execution_count": 46,
      "outputs": [
        {
          "output_type": "stream",
          "name": "stdout",
          "text": [
            "\n",
            "Кол-во деревьев:  10\n",
            "0.8497808862636221\n",
            "\n",
            "Кол-во деревьев:  15\n",
            "0.857973565520167\n",
            "\n",
            "Кол-во деревьев:  30\n",
            "0.8744249126027503\n",
            "\n",
            "Кол-во деревьев:  35\n",
            "0.8682513544879626\n",
            "\n",
            "Кол-во деревьев:  40\n",
            "0.8768354453694507\n",
            "\n",
            "Кол-во деревьев:  50\n",
            "0.8766302578101046\n",
            "\n",
            "Кол-во деревьев:  90\n",
            "0.8689620531935389\n",
            "\n",
            "Кол-во деревьев:  150\n",
            "0.8772201168309302\n",
            "\n",
            "Наилучшее качество полученной модели достигнуто при 'n_estimators' = 150 \n",
            "Качество полученной модели:  0.8772201168309302\n"
          ]
        }
      ]
    },
    {
      "cell_type": "markdown",
      "source": [
        "Задание 8.\n",
        "Измерьте качество итоговой модели на кросс-валидации. Выполните предсказание на тестовом множестве и сохраните их в переменную predictions. Измерьте итоговое качество на тестовом множестве."
      ],
      "metadata": {
        "id": "3XxGB29hMUYK"
      }
    },
    {
      "cell_type": "code",
      "source": [
        "#Задание 8\n",
        "\n",
        "y_test = data_test[\"Survived\"]\n",
        "x_test = data_test.drop([\"Survived\", \"Name\", \"Ticket\", \"Cabin\"], axis=1)\n",
        "\n",
        "x_test = StandardScaler().fit_transform(x_test)\n",
        "predictions = model.predict(x_test)\n",
        "\n",
        "from sklearn.metrics import accuracy_score\n",
        "acc = accuracy_score(y_test, predictions)\n",
        "print(\"Accuracy =\", acc)\n"
      ],
      "metadata": {
        "id": "_RbTgy_GMZ6C",
        "colab": {
          "base_uri": "https://localhost:8080/"
        },
        "outputId": "f83d20a2-1474-4ced-f1cd-b0731b291982"
      },
      "execution_count": 48,
      "outputs": [
        {
          "output_type": "stream",
          "name": "stdout",
          "text": [
            "Accuracy =  0.7126865671641791\n"
          ]
        }
      ]
    },
    {
      "cell_type": "markdown",
      "source": [
        "Задание 9.\n",
        "Сделайте выводы. Какие из идей сработали? Какие оказались лишними?"
      ],
      "metadata": {
        "id": "0r9xmkHtLsql"
      }
    },
    {
      "cell_type": "markdown",
      "source": [
        "Вывод: Лучше всего с обучающей выборкой справилась модель градиентного бустинга. А точность модели на тестовой выборке оказалась приблизительно равной 0.7, что является неплохим результатом."
      ],
      "metadata": {
        "id": "sBU4rAMaLzpw"
      }
    }
  ]
}